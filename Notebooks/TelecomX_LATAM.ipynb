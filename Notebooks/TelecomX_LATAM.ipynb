{
  "cells": [
    {
      "cell_type": "markdown",
      "metadata": {
        "id": "4foVEKhrlqcH"
      },
      "source": [
        "# 📌 Extracción"
      ]
    },
    {
      "cell_type": "code",
      "execution_count": null,
      "metadata": {
        "id": "1--uPM88l7JH"
      },
      "outputs": [],
      "source": [
        "import json\n",
        "import pandas as pd\n",
        "\n",
        "# Cargar archivo JSON\n",
        "with open('/mnt/data/TelecomX_Data.json') as f:\n",
        "    data = json.load(f)\n",
        "\n",
        "# Normalizar los datos anidados\n",
        "df = pd.json_normalize(data)\n",
        "\n",
        "# Vista previa de los datos\n",
        "df.head()"
      ]
    },
    {
      "cell_type": "markdown",
      "metadata": {
        "id": "1lSZP8zmmGZu"
      },
      "source": [
        "# 🔧 Transformación"
      ]
    },
    {
      "cell_type": "code",
      "execution_count": null,
      "metadata": {
        "id": "bsm-WTLjmHvt"
      },
      "outputs": [],
      "source": [
        "# Renombrar columnas para mayor claridad\n",
        "df.columns = df.columns.str.replace(r'\\.', '_')\n",
        "\n",
        "# Convertir columnas numéricas que vienen como texto\n",
        "df['account_Charges_Total'] = pd.to_numeric(df['account_Charges_Total'], errors='coerce')\n",
        "\n",
        "# Verificar valores nulos\n",
        "missing_values = df.isnull().sum()\n",
        "\n",
        "# Rellenar o eliminar registros con datos faltantes si es necesario\n",
        "df = df.dropna(subset=['Churn'])  # Por ejemplo, eliminar registros sin información de evasión\n",
        "\n",
        "# Transformar la variable 'Churn' en binaria\n",
        "df['Churn'] = df['Churn'].map({'Yes': 1, 'No': 0})\n",
        "\n",
        "# Convertir 'SeniorCitizen' a categórica\n",
        "df['customer_SeniorCitizen'] = df['customer_SeniorCitizen'].map({1: 'Yes', 0: 'No'})\n",
        "\n",
        "# Resultado de la limpieza\n",
        "df.info()\n"
      ]
    },
    {
      "cell_type": "markdown",
      "metadata": {
        "id": "6XnTC2NTmMRL"
      },
      "source": [
        "# 📊 Carga y análisis"
      ]
    },
    {
      "cell_type": "code",
      "execution_count": null,
      "metadata": {
        "id": "1jgUnLqTmPdd"
      },
      "outputs": [],
      "source": [
        "import matplotlib.pyplot as plt\n",
        "import seaborn as sns\n",
        "\n",
        "# Proporción de evasión de clientes\n",
        "churn_rate = df['Churn'].mean()\n",
        "print(f\"Tasa de evasión: {churn_rate:.2%}\")\n",
        "\n",
        "# Análisis de churn por tipo de contrato\n",
        "plt.figure(figsize=(8, 5))\n",
        "sns.countplot(data=df, x='account_Contract', hue='Churn')\n",
        "plt.title('Churn por tipo de contrato')\n",
        "plt.show()\n",
        "\n",
        "# Análisis de churn por servicio de internet\n",
        "plt.figure(figsize=(8, 5))\n",
        "sns.countplot(data=df, x='internet_InternetService', hue='Churn')\n",
        "plt.title('Churn por tipo de Internet')\n",
        "plt.show()\n",
        "\n",
        "# Distribución del total gastado según churn\n",
        "plt.figure(figsize=(10, 6))\n",
        "sns.boxplot(x='Churn', y='account_Charges_Total', data=df)\n",
        "plt.title('Distribución del gasto total por churn')\n",
        "plt.show()\n"
      ]
    },
    {
      "cell_type": "markdown",
      "metadata": {},
      "source": [
        "# 🔄 Complemento: Análisis visual avanzado"
      ]
    },
    {
      "cell_type": "markdown",
      "metadata": {},
      "source": [
        "🔹 1. Mapa de calor de correlación"
      ]
    },
    {
      "cell_type": "code",
      "execution_count": null,
      "metadata": {},
      "outputs": [],
      "source": [
        "# Convertir todas las columnas categóricas relevantes a numéricas para el análisis de correlación\n",
        "df_corr = df.copy()\n",
        "\n",
        "# Selección de columnas categóricas a convertir\n",
        "cat_cols = [\n",
        "    'customer_gender', 'customer_SeniorCitizen', 'customer_Partner', 'customer_Dependents',\n",
        "    'phone_PhoneService', 'phone_MultipleLines', 'internet_InternetService',\n",
        "    'internet_OnlineSecurity', 'internet_OnlineBackup', 'internet_DeviceProtection',\n",
        "    'internet_TechSupport', 'internet_StreamingTV', 'internet_StreamingMovies',\n",
        "    'account_Contract', 'account_PaperlessBilling', 'account_PaymentMethod'\n",
        "]\n",
        "\n",
        "df_corr[cat_cols] = df_corr[cat_cols].astype('category').apply(lambda x: x.cat.codes)\n",
        "\n",
        "# Correlación con Churn\n",
        "plt.figure(figsize=(12, 10))\n",
        "sns.heatmap(df_corr.corr(), cmap='coolwarm', annot=True, fmt=\".2f\", square=True)\n",
        "plt.title('Mapa de Calor de Correlaciones')\n",
        "plt.show()\n"
      ]
    },
    {
      "cell_type": "markdown",
      "metadata": {},
      "source": [
        "🔹 2. Distribución de clientes por tiempo de contrato (tenure) y churn"
      ]
    },
    {
      "cell_type": "code",
      "execution_count": null,
      "metadata": {},
      "outputs": [],
      "source": [
        "plt.figure(figsize=(10, 5))\n",
        "sns.histplot(data=df, x='customer_tenure', bins=30, hue='Churn', multiple='stack')\n",
        "plt.title('Distribución de Tenure por Churn')\n",
        "plt.xlabel('Meses de Antigüedad')\n",
        "plt.ylabel('Número de Clientes')\n",
        "plt.show()\n"
      ]
    },
    {
      "cell_type": "markdown",
      "metadata": {},
      "source": [
        "🔹 3. Churn por cada servicio adicional"
      ]
    },
    {
      "cell_type": "code",
      "execution_count": null,
      "metadata": {},
      "outputs": [],
      "source": [
        "services = [\n",
        "    'internet_OnlineSecurity', 'internet_OnlineBackup', 'internet_DeviceProtection',\n",
        "    'internet_TechSupport', 'internet_StreamingTV', 'internet_StreamingMovies'\n",
        "]\n",
        "\n",
        "for service in services:\n",
        "    plt.figure(figsize=(6, 4))\n",
        "    sns.countplot(data=df, x=service, hue='Churn')\n",
        "    plt.title(f'Churn por {service.split(\"_\")[1]}')\n",
        "    plt.xticks(rotation=15)\n",
        "    plt.show()\n"
      ]
    },
    {
      "cell_type": "markdown",
      "metadata": {},
      "source": [
        "🔹 5. Clientes senior y con dependientes"
      ]
    },
    {
      "cell_type": "code",
      "execution_count": null,
      "metadata": {},
      "outputs": [],
      "source": [
        "plt.figure(figsize=(6, 4))\n",
        "sns.countplot(data=df, x='customer_SeniorCitizen', hue='Churn')\n",
        "plt.title('Churn por Clientes Senior')\n",
        "plt.show()\n",
        "\n",
        "plt.figure(figsize=(6, 4))\n",
        "sns.countplot(data=df, x='customer_Dependents', hue='Churn')\n",
        "plt.title('Churn por Clientes con Dependientes')\n",
        "plt.show()\n"
      ]
    },
    {
      "cell_type": "markdown",
      "metadata": {
        "id": "v-WzfSvTmaw9"
      },
      "source": [
        "# 📄Informe Preliminar"
      ]
    },
    {
      "cell_type": "code",
      "execution_count": null,
      "metadata": {
        "id": "XMTac0YJmeK9"
      },
      "outputs": [],
      "source": [
        "# Cálculos clave\n",
        "churn_rate = df['Churn'].mean() * 100\n",
        "\n",
        "# Contrato\n",
        "contract_churn = df.groupby('account_Contract')['Churn'].mean().sort_values(ascending=False) * 100\n",
        "\n",
        "# InternetService\n",
        "internet_churn = df.groupby('internet_InternetService')['Churn'].mean().sort_values(ascending=False) * 100\n",
        "\n",
        "# Paperless Billing\n",
        "paperless_churn = df.groupby('account_PaperlessBilling')['Churn'].mean() * 100\n",
        "\n",
        "# Payment Method\n",
        "payment_churn = df.groupby('account_PaymentMethod')['Churn'].mean().sort_values(ascending=False) * 100\n",
        "\n",
        "# Tenure promedio según churn\n",
        "tenure_churn = df.groupby('Churn')['customer_tenure'].mean()\n",
        "\n",
        "# Monthly charges promedio según churn\n",
        "monthly_charges = df.groupby('Churn')['account_Charges_Monthly'].mean()\n",
        "\n",
        "print(\"🔍 Informe Final - Evasión de Clientes en Telecom X\\n\")\n",
        "print(f\"Tasa general de evasión: {churn_rate:.2f}%\\n\")\n",
        "\n",
        "print(\"📌 Conclusiones principales basadas en los datos:\\n\")\n",
        "\n",
        "print(f\"1. Los contratos 'Month-to-month' presentan una tasa de churn de {contract_churn['Month-to-month']:.2f}%, muy superior a:\")\n",
        "print(f\"   - 'One year': {contract_churn['One year']:.2f}%\")\n",
        "print(f\"   - 'Two year': {contract_churn['Two year']:.2f}%\")\n",
        "\n",
        "print(f\"\\n2. Los clientes con servicio de Internet 'Fiber optic' tienen una tasa de churn de {internet_churn.get('Fiber optic', 0):.2f}%,\")\n",
        "print(f\"   comparado con 'DSL': {internet_churn.get('DSL', 0):.2f}% y 'No': {internet_churn.get('No', 0):.2f}%\")\n",
        "\n",
        "print(f\"\\n3. La facturación electrónica ('Yes') presenta una evasión de {paperless_churn.get('Yes', 0):.2f}%,\")\n",
        "print(f\"   mientras que la facturación tradicional ('No') tiene {paperless_churn.get('No', 0):.2f}%\")\n",
        "\n",
        "print(f\"\\n4. El método de pago con mayor churn es '{payment_churn.idxmax()}' con {payment_churn.max():.2f}%\")\n",
        "\n",
        "print(f\"\\n5. La antigüedad promedio (tenure) de clientes que abandonan es de {tenure_churn[1]:.1f} meses,\")\n",
        "print(f\"   mientras que los que se quedan tienen un promedio de {tenure_churn[0]:.1f} meses\")\n",
        "\n",
        "print(f\"\\n6. Los clientes que se van tienen un cargo mensual promedio de ${monthly_charges[1]:.2f},\")\n",
        "print(f\"   comparado con ${monthly_charges[0]:.2f} para los que permanecen.\\n\")\n",
        "\n"
      ]
    }
  ],
  "metadata": {
    "colab": {
      "provenance": []
    },
    "kernelspec": {
      "display_name": "Python 3",
      "name": "python3"
    },
    "language_info": {
      "name": "python"
    }
  },
  "nbformat": 4,
  "nbformat_minor": 0
}
